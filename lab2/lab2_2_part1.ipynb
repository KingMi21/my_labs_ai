{
 "cells": [
  {
   "cell_type": "code",
   "execution_count": 7,
   "id": "148d4b1c-2aab-4747-b244-c0dcb83da70a",
   "metadata": {},
   "outputs": [
    {
     "name": "stdout",
     "output_type": "stream",
     "text": [
      "Процент потерянных данных после очистки: 79.46%\n",
      "\n",
      "Точность модели со всеми признаками: 0.73\n",
      "Точность модели без признака Embarked: 0.73\n"
     ]
    }
   ],
   "source": [
    "import pandas as pd\n",
    "from sklearn.model_selection import train_test_split\n",
    "from sklearn.linear_model import LogisticRegression\n",
    "from sklearn.metrics import accuracy_score\n",
    "\n",
    "\n",
    "# Часть 1: Анализ данных Titanic\n",
    "\n",
    "# Загрузка и предобработка данных\n",
    "def preprocess_titanic_data():\n",
    "    \"\"\"Загрузка и предобработка данных Titanic\"\"\"\n",
    "    # Загрузка данных\n",
    "    titanic_data = pd.read_csv(\"Titanic.csv\")\n",
    "\n",
    "    # Удаление строк с пропущенными значениями\n",
    "    cleaned_data = titanic_data.dropna()\n",
    "\n",
    "    # Удаление неинформативных столбцов\n",
    "    cols_to_drop = ['Name', 'Ticket', 'Cabin', 'PassengerId']\n",
    "    cleaned_data = cleaned_data.drop(cols_to_drop, axis=1)\n",
    "\n",
    "    # Преобразование категориальных признаков в числовые\n",
    "    cleaned_data['Sex'] = cleaned_data['Sex'].map({'male': 0, 'female': 1})\n",
    "    cleaned_data['Embarked'] = cleaned_data['Embarked'].map({'C': 1, 'Q': 2, 'S': 3})\n",
    "\n",
    "    # Расчет потери данных\n",
    "    initial_rows = titanic_data.shape[0]\n",
    "    final_rows = cleaned_data.shape[0]\n",
    "    data_loss_percent = ((initial_rows - final_rows) / initial_rows) * 100\n",
    "    print(f\"Процент потерянных данных после очистки: {data_loss_percent:.2f}%\")\n",
    "\n",
    "    return cleaned_data\n",
    "\n",
    "\n",
    "# Обучение и оценка модели\n",
    "def train_and_evaluate_titanic(data):\n",
    "    \"\"\"Обучение и оценка модели логистической регрессии\"\"\"\n",
    "    # Разделение данных\n",
    "    X = data.drop('Survived', axis=1)\n",
    "    y = data['Survived']\n",
    "    X_train, X_test, y_train, y_test = train_test_split(X, y, test_size=0.2, random_state=42)\n",
    "\n",
    "    # Обучение модели со всеми признаками\n",
    "    model = LogisticRegression(max_iter=1000)\n",
    "    model.fit(X_train, y_train)\n",
    "    y_pred = model.predict(X_test)\n",
    "    accuracy = accuracy_score(y_test, y_pred)\n",
    "    print(f\"\\nТочность модели со всеми признаками: {accuracy:.2f}\")\n",
    "\n",
    "    # Обучение модели без признака Embarked\n",
    "    X_no_embarked = X.drop('Embarked', axis=1)\n",
    "    X_train_ne, X_test_ne, y_train_ne, y_test_ne = train_test_split(X_no_embarked, y, test_size=0.2, random_state=42)\n",
    "\n",
    "    model_ne = LogisticRegression(max_iter=1000)\n",
    "    model_ne.fit(X_train_ne, y_train_ne)\n",
    "    y_pred_ne = model_ne.predict(X_test_ne)\n",
    "    accuracy_ne = accuracy_score(y_test_ne, y_pred_ne)\n",
    "    print(f\"Точность модели без признака Embarked: {accuracy_ne:.2f}\")\n",
    "\n",
    "titanic_data = preprocess_titanic_data()\n",
    "train_and_evaluate_titanic(titanic_data)"
   ]
  },
  {
   "cell_type": "code",
   "execution_count": null,
   "id": "4a8d3e3e-5e94-4885-b348-25485cf85637",
   "metadata": {},
   "outputs": [],
   "source": []
  }
 ],
 "metadata": {
  "kernelspec": {
   "display_name": "Python 3 (ipykernel)",
   "language": "python",
   "name": "python3"
  },
  "language_info": {
   "codemirror_mode": {
    "name": "ipython",
    "version": 3
   },
   "file_extension": ".py",
   "mimetype": "text/x-python",
   "name": "python",
   "nbconvert_exporter": "python",
   "pygments_lexer": "ipython3",
   "version": "3.12.7"
  }
 },
 "nbformat": 4,
 "nbformat_minor": 5
}
